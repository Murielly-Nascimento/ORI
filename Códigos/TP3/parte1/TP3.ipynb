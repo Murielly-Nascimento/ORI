{
 "cells": [
  {
   "cell_type": "code",
   "execution_count": 1,
   "id": "e18f2420-142d-4544-8ab1-9fbfcf178b6a",
   "metadata": {},
   "outputs": [],
   "source": [
    "import collections\n",
    "from operator import le\n",
    "from typing import Dict\n",
    "import unidecode\n",
    "import math\n",
    "from unicodedata import normalize\n",
    "import re"
   ]
  },
  {
   "cell_type": "code",
   "execution_count": 2,
   "id": "ef439a54-b5d6-4da3-a79a-c67d93592507",
   "metadata": {},
   "outputs": [],
   "source": [
    "# Remove pontos e acentos\n",
    "def PalavrasChave(palavra):\n",
    "    termo = unidecode.unidecode(palavra.lower())\n",
    "    termo = termo.replace(',','')\n",
    "    termo = termo.replace('.','')\n",
    "    termo = termo.replace('\\n','')\n",
    "    termo = termo.replace('!','')\n",
    "    termo = termo.replace('-','')\n",
    "    termo = termo.replace(',','')\n",
    "    termo = termo.replace('ã','a')\n",
    "    termo = termo.replace('õ','o')\n",
    "    termo = termo.replace('á','a')\n",
    "    termo = termo.replace('é','e')\n",
    "    termo = termo.replace('í','i')\n",
    "    termo = termo.replace('ú','u')\n",
    "    termo = termo.replace('ó','o')\n",
    "    termo = termo.replace('à','a')\n",
    "    termo = termo.replace('ç','c')\n",
    "    termo = termo.strip('\"')\n",
    "    termo = re.sub(r'[0-9]+','',termo)\n",
    "    return termo "
   ]
  },
  {
   "cell_type": "code",
   "execution_count": 3,
   "id": "123cee58-a9a5-4b28-9e69-aac42b52d979",
   "metadata": {},
   "outputs": [],
   "source": [
    "# Abre um arquivo e retorna a lista com seus termos\n",
    "def LeArquivo(nome):\n",
    "    lista = []\n",
    "    arquivo = open(nome, \"r\")\n",
    "    for linha in arquivo:\n",
    "        for palavra in linha.split():\n",
    "            termo = PalavrasChave(palavra)\n",
    "            lista.append(termo)\n",
    "    arquivo.close()\t\n",
    "    return lista"
   ]
  },
  {
   "cell_type": "code",
   "execution_count": 4,
   "id": "b258dce7-f8df-413c-bd26-59ad7617e899",
   "metadata": {},
   "outputs": [],
   "source": [
    "# Ordena e remove termos repetidos de uma lista\n",
    "def CriaIndex(Lista):\n",
    "    index = list(dict.fromkeys(Lista))\n",
    "    index.sort()\n",
    "    return index"
   ]
  },
  {
   "cell_type": "code",
   "execution_count": 5,
   "id": "a9fd6247-1ee9-457f-8568-f490f9c92c83",
   "metadata": {},
   "outputs": [],
   "source": [
    "# Cria um arquivo texto\n",
    "def EscreveArq(nome, lista):\n",
    "    nome = open(nome, \"w\")\n",
    "    for cont in lista:\n",
    "        nome.write(cont)\n",
    "        nome.write(\"\\n\")\n",
    "    nome.close()"
   ]
  },
  {
   "cell_type": "code",
   "execution_count": 6,
   "id": "c38c1d5f-4351-4b7d-8dcb-813e53e44f83",
   "metadata": {},
   "outputs": [],
   "source": [
    "def CriarVocabulario():\n",
    "    diretorio = input(\"Pasta com documentos: \")\n",
    "    quantidade = int(input(\"Numero de arquivos: \"))\n",
    "    vocab = []\n",
    "\n",
    "    for i in range(quantidade):\n",
    "        doc = input(\"Nome do documento: \")\n",
    "        str = diretorio + \"/\" + doc\n",
    "        vocab.extend(LeArquivo(str))\n",
    "\n",
    "    vocab = CriaIndex(vocab)\n",
    "\n",
    "    arq = input(\"Nome do arquivo vocabulario: \")\n",
    "    EscreveArq(arq,vocab)\n",
    "    print(\"Arquivo com vocabulario criado\")\t"
   ]
  },
  {
   "cell_type": "code",
   "execution_count": 7,
   "id": "d794a938-b16b-4f92-8638-15af57857315",
   "metadata": {},
   "outputs": [],
   "source": [
    "def ExtraiTermos():\n",
    "    arq = input(\"Nome do arquivo vocabulario: \")\n",
    "    vocab = []\n",
    "    vocab = LeArquivo(arq)\n",
    "\n",
    "    matrix = {}\n",
    "\n",
    "    diretorio = input(\"Pasta com documentos: \")\n",
    "    qtd = int(input(\"Quantidade de aquivos: \"))\n",
    "    for i in range(qtd):\n",
    "        arq = input(\"Nome do arquivo: \")\n",
    "        doc = diretorio + \"/\" + arq;\n",
    "        aux = LeArquivo(doc)\n",
    "        frequency = collections.Counter(aux)\n",
    "        matrix[i] = frequency\n",
    "\n",
    "    return matrix, vocab, qtd"
   ]
  },
  {
   "cell_type": "code",
   "execution_count": 8,
   "id": "b7a26f02-f3ce-453e-a3a5-3d9d86f14932",
   "metadata": {},
   "outputs": [],
   "source": [
    "# Imprime a Bag Of Words\n",
    "def BagOfWords():\n",
    "    matrix, vocab, qtd = ExtraiTermos()\n",
    "\n",
    "    similaridade = False\n",
    "\n",
    "    for i in range(qtd):\n",
    "        print(\"Documento \",(i+1),\": \",end=\"\")\n",
    "        print(\"[\",end=\"\")\n",
    "        for termo in vocab:\n",
    "            if(matrix[i][termo] != 0) : \n",
    "                print(\"1,\", end=\"\")\t\n",
    "            else: print(\"0,\", end=\"\")\n",
    "        print(\"]\")"
   ]
  },
  {
   "cell_type": "code",
   "execution_count": 9,
   "id": "050f4e02-935d-4d70-ba1a-2f64e778bff4",
   "metadata": {},
   "outputs": [],
   "source": [
    "def CalcularTF(matrix, vocab, qtd):\n",
    "    tf = collections.defaultdict(dict)\n",
    "    for item in vocab:\n",
    "        for i in range(qtd):\n",
    "            if matrix[i][item] == 0 :\n",
    "                tf[item][i] = 0\n",
    "            else: \n",
    "                tf[item][i] = 1 + math.log(matrix[i][item],2)\n",
    "\n",
    "    return tf"
   ]
  },
  {
   "cell_type": "code",
   "execution_count": 10,
   "id": "5f35b74c-eee6-4a63-afd2-1c7eac3631b7",
   "metadata": {},
   "outputs": [],
   "source": [
    "def CalcularIDF(matrix, vocab, qtd):\n",
    "    idf = collections.defaultdict(dict)\n",
    "\n",
    "    for item in vocab:\n",
    "        n = 0\n",
    "        for i in range(qtd):\n",
    "            if matrix[i][item]!=0 : n+=1\n",
    "        if n == 0 :\n",
    "            idf[item] = 0\n",
    "        else: \n",
    "            idf[item] = math.log((qtd/n),2)\n",
    "\n",
    "    return idf"
   ]
  },
  {
   "cell_type": "code",
   "execution_count": 11,
   "id": "86726798-ced5-46f4-aa0d-847be49c6117",
   "metadata": {},
   "outputs": [],
   "source": [
    "def CalcularTFIDF():\n",
    "    matrix, vocab, qtd = ExtraiTermos()\n",
    "\n",
    "    tf = CalcularTF(matrix, vocab, qtd)\n",
    "    idf = CalcularIDF(matrix, vocab, qtd)\n",
    "\n",
    "    tf_idf = collections.defaultdict(dict)\n",
    "\n",
    "    for item in vocab:\n",
    "        for i in range(qtd):\n",
    "            tf_idf[item][i] = idf[item] * tf[item][i]\n",
    "\n",
    "    for item in vocab:\n",
    "        n = 0\n",
    "        print(item,\" \", end=\"\")\n",
    "        for i in range(qtd):\n",
    "            print(\"  Doc \",(i+1),\":  \",end=\"\")\n",
    "            print(\"{:.2f}\".format(tf_idf[item][i]), \" \", end=\"\")\n",
    "        print()\n",
    "        \n",
    "    return tf_idf, vocab, idf, qtd"
   ]
  },
  {
   "cell_type": "code",
   "execution_count": 12,
   "id": "a0dc30ec-e094-4c4f-b9bb-9a1c52f47073",
   "metadata": {},
   "outputs": [],
   "source": [
    "def CalcularTFIDF_Consulta(vocab, idf):\n",
    "    # TF-IDF da consulta\n",
    "    string = input(\"Digite uma consulta: \")\n",
    "    consulta = string.split()\n",
    "    matrix = {}\n",
    "    matrix[0] = collections.Counter(consulta)\n",
    "    tf_vocab = CalcularTF(matrix, vocab, 1)\n",
    "    tf_idf_consulta = collections.defaultdict(dict)\n",
    "    for item in idf:\n",
    "        tf_idf_consulta[item] = round((idf[item] * tf_vocab[item][0]), 2)\n",
    "        \n",
    "    return tf_idf_consulta"
   ]
  },
  {
   "cell_type": "code",
   "execution_count": 17,
   "id": "b55adddd-6f96-412a-b91d-472d2fc334b0",
   "metadata": {},
   "outputs": [],
   "source": [
    "def CalcularVetorial():\n",
    "    tf_idf, vocab, idf, qtd = CalcularTFIDF()\n",
    "    tf_idf_consulta = CalcularTFIDF_Consulta(vocab, idf)\n",
    "    \n",
    "    modulo_consulta = 0\n",
    "    for item in tf_idf_consulta:\n",
    "        modulo_consulta = modulo_consulta + pow(tf_idf_consulta[item],2)\n",
    "    modulo_consulta = math.sqrt(modulo_consulta)\n",
    "    print(modulo_consulta)\n",
    "    \n",
    "    modulo_matrix = collections.defaultdict(dict)\n",
    "    cont = 0\n",
    "    for i in range(qtd):\n",
    "        for item in tf_idf_consulta:\n",
    "            cont = cont + pow(tf_idf[item][i],2)\n",
    "        modulo_matrix[i] = math.sqrt(cont)\n",
    "    print(modulo_matrix)\n",
    "    \n",
    "    ranking = collections.defaultdict(dict)\n",
    "    aux = 0\n",
    "\n",
    "    for i in range(qtd):\n",
    "        for item in vocab:\n",
    "            aux = aux + (tf_idf[item][i] * tf_idf_consulta[item])\n",
    "        print((modulo_matrix[i] * modulo_consulta))\n",
    "        ranking[i] = aux/ (modulo_matrix[i] * modulo_consulta)\n",
    "        \n",
    "    print(ranking)\n",
    "            \n",
    "            \n",
    "            \n",
    "        \n",
    "    \n",
    "        \n",
    "    \n",
    "    \n",
    "    "
   ]
  },
  {
   "cell_type": "code",
   "execution_count": 18,
   "id": "94d4c963-743d-4d3b-aa13-7656b2374573",
   "metadata": {},
   "outputs": [],
   "source": [
    "def menu():\n",
    "    print(\"<<Organização e Recuperação da Informação>>\")\n",
    "    print(\"1 - Criar Vocabulário\")\n",
    "    print(\"2 - Imprime Bag of Words\")\n",
    "    print(\"3 - Calcular o TF-IDF\")\n",
    "    print(\"4 - Calcular o Modelo Vetorial\")\n",
    "    print(\"5 - Sair\")\n"
   ]
  },
  {
   "cell_type": "code",
   "execution_count": 19,
   "id": "6e0e4874-f06e-4e37-a732-ebc098e7712a",
   "metadata": {},
   "outputs": [],
   "source": [
    "# Programa main\n",
    "def main():\n",
    "    while True:\n",
    "        menu()\n",
    "        opcao = int(input(\"Digite uma opcao: \"))\n",
    "        match opcao:\n",
    "            case 1:\n",
    "                CriarVocabulario()\n",
    "            case 2:\n",
    "                BagOfWords()\n",
    "            case 3:\n",
    "                CalcularTFIDF()\n",
    "            case 4:\n",
    "                CalcularVetorial()\n",
    "            case _:\n",
    "                break"
   ]
  },
  {
   "cell_type": "code",
   "execution_count": null,
   "id": "5bc6c272-5a09-42b8-807f-798d4de84c41",
   "metadata": {},
   "outputs": [
    {
     "name": "stdout",
     "output_type": "stream",
     "text": [
      "<<Organização e Recuperação da Informação>>\n",
      "1 - Criar Vocabulário\n",
      "2 - Imprime Bag of Words\n",
      "3 - Calcular o TF-IDF\n",
      "4 - Calcular o Modelo Vetorial\n",
      "5 - Sair\n"
     ]
    },
    {
     "name": "stdin",
     "output_type": "stream",
     "text": [
      "Digite uma opcao:  4\n",
      "Nome do arquivo vocabulario:  vocab.txt\n",
      "Pasta com documentos:  Documentos\n",
      "Quantidade de aquivos:  4\n",
      "Nome do arquivo:  D1.txt\n",
      "Nome do arquivo:  D2.txt\n",
      "Nome do arquivo:  D3.txt\n",
      "Nome do arquivo:  D4.txt\n"
     ]
    },
    {
     "name": "stdout",
     "output_type": "stream",
     "text": [
      "am    Doc  1 :  0.00    Doc  2 :  2.00    Doc  3 :  1.00    Doc  4 :  0.00  \n",
      "be    Doc  1 :  0.00    Doc  2 :  0.00    Doc  3 :  0.00    Doc  4 :  0.00  \n",
      "da    Doc  1 :  0.00    Doc  2 :  0.00    Doc  3 :  0.00    Doc  4 :  5.17  \n",
      "do    Doc  1 :  0.83    Doc  2 :  0.00    Doc  3 :  1.07    Doc  4 :  1.07  \n",
      "i    Doc  1 :  0.00    Doc  2 :  2.00    Doc  3 :  2.00    Doc  4 :  0.00  \n",
      "is    Doc  1 :  4.00    Doc  2 :  0.00    Doc  3 :  0.00    Doc  4 :  0.00  \n",
      "it    Doc  1 :  0.00    Doc  2 :  0.00    Doc  3 :  0.00    Doc  4 :  4.00  \n",
      "let    Doc  1 :  0.00    Doc  2 :  0.00    Doc  3 :  0.00    Doc  4 :  4.00  \n",
      "not    Doc  1 :  0.00    Doc  2 :  2.00    Doc  3 :  0.00    Doc  4 :  0.00  \n",
      "or    Doc  1 :  0.00    Doc  2 :  2.00    Doc  3 :  0.00    Doc  4 :  0.00  \n",
      "therefore    Doc  1 :  0.00    Doc  2 :  0.00    Doc  3 :  2.00    Doc  4 :  0.00  \n",
      "think    Doc  1 :  0.00    Doc  2 :  0.00    Doc  3 :  2.00    Doc  4 :  0.00  \n",
      "to    Doc  1 :  3.00    Doc  2 :  2.00    Doc  3 :  0.00    Doc  4 :  0.00  \n",
      "what    Doc  1 :  0.00    Doc  2 :  2.00    Doc  3 :  0.00    Doc  4 :  0.00  \n"
     ]
    },
    {
     "name": "stdin",
     "output_type": "stream",
     "text": [
      "Digite uma consulta:  to do\n"
     ]
    },
    {
     "name": "stdout",
     "output_type": "stream",
     "text": [
      "1.0846197490365\n",
      "defaultdict(<class 'dict'>, {0: 5.068434127344514, 1: 7.049044226221775, 2: 7.989996576859939, 3: 11.122912865512111})\n",
      "5.497323751208438\n",
      "7.64553257959185\n",
      "8.66610808199632\n",
      "12.064130960746603\n",
      "defaultdict(<class 'dict'>, {0: 0.6091384919176577, 1: 0.69957605225191, 2: 0.6691851891039946, 3: 0.518050647181612})\n",
      "<<Organização e Recuperação da Informação>>\n",
      "1 - Criar Vocabulário\n",
      "2 - Imprime Bag of Words\n",
      "3 - Calcular o TF-IDF\n",
      "4 - Calcular o Modelo Vetorial\n",
      "5 - Sair\n"
     ]
    }
   ],
   "source": [
    "if __name__ == \"__main__\": \n",
    "    main()"
   ]
  },
  {
   "cell_type": "code",
   "execution_count": null,
   "id": "719c9219-63f6-4549-9339-cda7ac22a95b",
   "metadata": {},
   "outputs": [],
   "source": []
  },
  {
   "cell_type": "code",
   "execution_count": null,
   "id": "6060183b-cc3c-4ec5-aebb-f021238b3167",
   "metadata": {},
   "outputs": [],
   "source": []
  },
  {
   "cell_type": "code",
   "execution_count": null,
   "id": "3ad9b6bb-1667-4ebe-9988-c8d21d0b0bab",
   "metadata": {},
   "outputs": [],
   "source": []
  }
 ],
 "metadata": {
  "kernelspec": {
   "display_name": "Python 3 (ipykernel)",
   "language": "python",
   "name": "python3"
  },
  "language_info": {
   "codemirror_mode": {
    "name": "ipython",
    "version": 3
   },
   "file_extension": ".py",
   "mimetype": "text/x-python",
   "name": "python",
   "nbconvert_exporter": "python",
   "pygments_lexer": "ipython3",
   "version": "3.10.4"
  }
 },
 "nbformat": 4,
 "nbformat_minor": 5
}
